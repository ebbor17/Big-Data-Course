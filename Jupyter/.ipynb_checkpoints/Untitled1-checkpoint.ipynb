{
 "cells": [
  {
   "cell_type": "code",
   "execution_count": 2,
   "metadata": {},
   "outputs": [
    {
     "ename": "SyntaxError",
     "evalue": "(unicode error) 'unicodeescape' codec can't decode bytes in position 2-3: truncated \\UXXXXXXXX escape (<ipython-input-2-bb1066a4cc83>, line 31)",
     "output_type": "error",
     "traceback": [
      "\u001b[1;36m  File \u001b[1;32m\"<ipython-input-2-bb1066a4cc83>\"\u001b[1;36m, line \u001b[1;32m31\u001b[0m\n\u001b[1;33m    data = pd.read_csv(\"C:\\Users\\robbe\\Documents\\Thomas More 2019-2020\\Big Data\\Big-Data-Course\\Jupyter.csv\")\u001b[0m\n\u001b[1;37m                      ^\u001b[0m\n\u001b[1;31mSyntaxError\u001b[0m\u001b[1;31m:\u001b[0m (unicode error) 'unicodeescape' codec can't decode bytes in position 2-3: truncated \\UXXXXXXXX escape\n"
     ]
    }
   ],
   "source": [
    "import pandas as pd\n",
    "from sklearn.model_selection import train_test_split\n",
    "from sklearn import tree\n",
    "from sklearn import svm\n",
    "from sklearn.linear_model import LinearRegression\n",
    "from sklearn.naive_bayes import GaussianNB\n",
    "from sklearn.linear_model import LogisticRegression\n",
    "import seaborn as sns\n",
    "from matplotlib import pyplot as plt\n",
    "\n",
    "def regression_model(model, df1, df2, name):\n",
    "  x = df1[['month','year','laptop','mobile']]\n",
    "  y = df1[['revenue']]\n",
    "  model.fit(x,y)\n",
    "  x_test = df2[['month','year','laptop','mobile']]\n",
    "  y_test = df2[['revenue']]\n",
    "  predictions = model.predict(x_test)\n",
    "  accuracy = model.score(x_test,y_test)\n",
    "  print ('Accuracy : %s' % '{0:.3%}'.format(accuracy), name)\n",
    "  newarray = x_test[['month']].values\n",
    "  newarray2 = newarray.ravel()\n",
    "  newarray3 = x_test[['year']].values\n",
    "  newarray4 = newarray3.ravel()\n",
    "  newarray5 = predictions.ravel()\n",
    "  newdf = pd.DataFrame({'revenue':newarray5, 'month':newarray2, 'year':newarray4})\n",
    "  sns.factorplot(x=\"month\", y=\"revenue\", hue=\"year\", data=newdf)\n",
    "  plt.show()\n",
    "\n",
    "\n",
    "\n",
    "data = pd.read_csv(\"Testing.csv\")\n",
    "df = pd.DataFrame(data)\n",
    "x = df[['month','year','laptop','mobile']]\n",
    "y = df[['revenue']]\n",
    "sns.factorplot(x=\"month\", y=\"revenue\", hue=\"year\", data=df)\n",
    "plt.show()\n",
    "data2 = pd.read_csv(\"testingval.csv\")\n",
    "df2 = pd.DataFrame(data2)\n",
    "clf1 = svm.SVR()\n",
    "clf2 = tree.DecisionTreeRegressor()\n",
    "clf3 = LinearRegression()\n",
    "clf4 = GaussianNB()\n",
    "clf5 = LogisticRegression()\n",
    "regression_model(clf1, df, df2, \"SVM\")\n",
    "regression_model(clf2, df, df2, \"Decision Tree\")\n",
    "regression_model(clf3, df, df2, \"Linear Regression\")\n",
    "regression_model(clf4, df, df2, \"GaussianNB\")\n",
    "regression_model(clf5, df, df2, \"Logistic Regression\")"
   ]
  },
  {
   "cell_type": "code",
   "execution_count": null,
   "metadata": {},
   "outputs": [],
   "source": []
  },
  {
   "cell_type": "code",
   "execution_count": null,
   "metadata": {},
   "outputs": [],
   "source": []
  }
 ],
 "metadata": {
  "kernelspec": {
   "display_name": "Python 3",
   "language": "python",
   "name": "python3"
  },
  "language_info": {
   "codemirror_mode": {
    "name": "ipython",
    "version": 3
   },
   "file_extension": ".py",
   "mimetype": "text/x-python",
   "name": "python",
   "nbconvert_exporter": "python",
   "pygments_lexer": "ipython3",
   "version": "3.7.4"
  }
 },
 "nbformat": 4,
 "nbformat_minor": 2
}
